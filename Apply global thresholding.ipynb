{
 "cells": [
  {
   "cell_type": "code",
   "execution_count": 1,
   "metadata": {},
   "outputs": [],
   "source": [
    "import pandas as pd\n",
    "import numpy as np\n",
    "from skimage import data, io, color\n",
    "import matplotlib.pyplot as plt"
   ]
  },
  {
   "cell_type": "code",
   "execution_count": 2,
   "metadata": {},
   "outputs": [],
   "source": [
    "from skimage.filters import threshold_otsu"
   ]
  },
  {
   "cell_type": "code",
   "execution_count": 3,
   "metadata": {},
   "outputs": [],
   "source": [
    "chess_pieces_image = plt.imread('Image Processing with Python course exercise dataset/chapter 1/bw.jpg')"
   ]
  },
  {
   "cell_type": "code",
   "execution_count": 4,
   "metadata": {},
   "outputs": [
    {
     "data": {
      "text/plain": [
       "array([[[255, 255, 255],\n",
       "        [255, 255, 255],\n",
       "        [255, 255, 255],\n",
       "        ...,\n",
       "        [252, 252, 252],\n",
       "        [252, 252, 252],\n",
       "        [252, 252, 252]],\n",
       "\n",
       "       [[255, 255, 255],\n",
       "        [255, 255, 255],\n",
       "        [255, 255, 255],\n",
       "        ...,\n",
       "        [252, 252, 252],\n",
       "        [252, 252, 252],\n",
       "        [252, 252, 252]],\n",
       "\n",
       "       [[255, 255, 255],\n",
       "        [255, 255, 255],\n",
       "        [255, 255, 255],\n",
       "        ...,\n",
       "        [252, 252, 252],\n",
       "        [252, 252, 252],\n",
       "        [252, 252, 252]],\n",
       "\n",
       "       ...,\n",
       "\n",
       "       [[126, 126, 126],\n",
       "        [120, 120, 120],\n",
       "        [116, 116, 116],\n",
       "        ...,\n",
       "        [154, 154, 154],\n",
       "        [152, 152, 152],\n",
       "        [150, 150, 150]],\n",
       "\n",
       "       [[121, 121, 121],\n",
       "        [115, 115, 115],\n",
       "        [111, 111, 111],\n",
       "        ...,\n",
       "        [152, 152, 152],\n",
       "        [147, 147, 147],\n",
       "        [149, 149, 149]],\n",
       "\n",
       "       [[128, 128, 128],\n",
       "        [121, 121, 121],\n",
       "        [118, 118, 118],\n",
       "        ...,\n",
       "        [151, 151, 151],\n",
       "        [144, 144, 144],\n",
       "        [149, 149, 149]]], dtype=uint8)"
      ]
     },
     "execution_count": 4,
     "metadata": {},
     "output_type": "execute_result"
    }
   ],
   "source": [
    "chess_pieces_image"
   ]
  },
  {
   "cell_type": "code",
   "execution_count": 5,
   "metadata": {},
   "outputs": [],
   "source": [
    "chess_pieces_image_gray = color.rgb2gray(chess_pieces_image)"
   ]
  },
  {
   "cell_type": "code",
   "execution_count": 6,
   "metadata": {},
   "outputs": [],
   "source": [
    "thresh = threshold_otsu(chess_pieces_image_gray)"
   ]
  },
  {
   "cell_type": "code",
   "execution_count": 7,
   "metadata": {},
   "outputs": [],
   "source": [
    "binary = chess_pieces_image_gray > thresh"
   ]
  },
  {
   "cell_type": "code",
   "execution_count": 8,
   "metadata": {},
   "outputs": [
    {
     "data": {
      "text/plain": [
       "<matplotlib.image.AxesImage at 0x7fcc7e9eb3d0>"
      ]
     },
     "execution_count": 8,
     "metadata": {},
     "output_type": "execute_result"
    },
    {
     "data": {
      "image/png": "[encoded data removed]",
      "text/plain": [
       "<Figure size 432x288 with 1 Axes>"
      ]
     },
     "metadata": {
      "needs_background": "light"
     },
     "output_type": "display_data"
    }
   ],
   "source": [
    "io.imshow(binary)"
   ]
  },
  {
   "cell_type": "code",
   "execution_count": null,
   "metadata": {},
   "outputs": [],
   "source": []
  }
 ],
 "metadata": {
  "kernelspec": {
   "display_name": "Python 3",
   "language": "python",
   "name": "python3"
  },
  "language_info": {
   "codemirror_mode": {
    "name": "ipython",
    "version": 3
   },
   "file_extension": ".py",
   "mimetype": "text/x-python",
   "name": "python",
   "nbconvert_exporter": "python",
   "pygments_lexer": "ipython3",
   "version": "3.7.4"
  }
 },
 "nbformat": 4,
 "nbformat_minor": 2
}
